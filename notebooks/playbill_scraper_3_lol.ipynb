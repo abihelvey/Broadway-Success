{
 "cells": [
  {
   "cell_type": "code",
   "execution_count": 1,
   "id": "28b210bb",
   "metadata": {},
   "outputs": [],
   "source": [
    "import pandas as pd\n",
    "import re\n",
    "import requests\n",
    "from bs4 import BeautifulSoup as BS\n",
    "from IPython.core.display import HTML\n",
    "from datetime import datetime, timedelta"
   ]
  },
  {
   "cell_type": "code",
   "execution_count": 2,
   "id": "9a340f88",
   "metadata": {},
   "outputs": [],
   "source": [
    "week_ending_str = '2022-06-05'\n",
    "week_ending = datetime.strptime(week_ending_str, '%Y-%m-%d')\n",
    "modifier = timedelta(7)"
   ]
  },
  {
   "cell_type": "code",
   "execution_count": 3,
   "id": "f7cee7db",
   "metadata": {},
   "outputs": [
    {
     "data": {
      "text/plain": [
       "'2022-06-05'"
      ]
     },
     "execution_count": 3,
     "metadata": {},
     "output_type": "execute_result"
    }
   ],
   "source": [
    "test = week_ending - modifier\n",
    "str(week_ending.date())\n",
    "#in loop, reset week_ending to be what is currently test "
   ]
  },
  {
   "cell_type": "code",
   "execution_count": 6,
   "id": "ed018c9f",
   "metadata": {},
   "outputs": [],
   "source": [
    "url = 'https://playbill.com/grosses'\n",
    "response = requests.get(url)\n",
    "soup = BS(response.text)"
   ]
  },
  {
   "cell_type": "code",
   "execution_count": 7,
   "id": "6d1eb374",
   "metadata": {},
   "outputs": [],
   "source": [
    "testsoup = soup.findAll('td', attr={'class':'col-0'})"
   ]
  },
  {
   "cell_type": "code",
   "execution_count": 8,
   "id": "1fc80130",
   "metadata": {},
   "outputs": [
    {
     "name": "stdout",
     "output_type": "stream",
     "text": [
      "[]\n"
     ]
    }
   ],
   "source": [
    "idk = []\n",
    "for x in testsoup:\n",
    "    idk.append(x.text)\n",
    "print(idk)"
   ]
  },
  {
   "cell_type": "code",
   "execution_count": 4,
   "id": "25f5f49c",
   "metadata": {},
   "outputs": [],
   "source": [
    "titles = []\n",
    "while i in range (0,42):\n",
    "    url = f'https://playbill.com/grosses?week={str(week_ending.date())}'\n",
    "    print(str(i)+' '+url)\n",
    "    response = requests.get(url)\n",
    "    soup = BS(response.text)\n",
    "    for td in soup.findAll('td', attr={'class':'col-0'}):\n",
    "        "
   ]
  },
  {
   "cell_type": "code",
   "execution_count": 13,
   "id": "49bfe001",
   "metadata": {
    "scrolled": true
   },
   "outputs": [
    {
     "name": "stdout",
     "output_type": "stream",
     "text": [
      "A Strange Loop\n",
      "Aladdin\n",
      "American Buffalo\n",
      "Beetlejuice\n",
      "Chicago\n",
      "Come From Away\n",
      "Company\n",
      "Dear Evan Hansen\n",
      "Funny Girl\n",
      "Girl From the North Country\n",
      "Hadestown\n",
      "Hamilton\n",
      "Hangmen\n",
      "Harry Potter and the Cursed Child\n",
      "How I Learned to Drive\n",
      "MJ The Musical\n",
      "Macbeth\n",
      "Moulin Rouge! The Musical\n",
      "POTUS: Or, Behind Every Great Dumbass are Seven Women Trying to Keep Him Alive\n",
      "Paradise Square\n",
      "Plaza Suite\n",
      "SIX: The Musical\n",
      "Take Me Out\n",
      "The Book of Mormon\n",
      "The Lion King\n",
      "The Minutes\n",
      "The Music Man\n",
      "The Phantom of the Opera\n",
      "Tina: The Tina Turner Musical\n",
      "Wicked\n",
      "for colored girls who have considered suicide/when the rainbow is enuf\n"
     ]
    }
   ],
   "source": [
    "def getTitles(URL):\n",
    "    response = requests.get(URL)\n",
    "    \n",
    "    try:\n",
    "        soup2 = BS(response.content, 'lxml')\n",
    "        table = soup.find('tbody')\n",
    "    except AttributeError:\n",
    "        print('error!!!!')\n",
    "    \n",
    "    tr = table.find_all('tr')\n",
    "    \n",
    "    for _tr in tr:\n",
    "        td = _tr.find_all('td')\n",
    "        for _td in td:\n",
    "            a = _td.find_all('a')\n",
    "            for _a in a:\n",
    "                span = _a.find_all('span')\n",
    "                for _span in span:\n",
    "                    print(_span.text)\n",
    "\n",
    "getTitles('https://playbill.com/grosses?week=2020-03-08')\n",
    "            "
   ]
  },
  {
   "cell_type": "code",
   "execution_count": 18,
   "id": "5c3d15f6",
   "metadata": {},
   "outputs": [
    {
     "name": "stdout",
     "output_type": "stream",
     "text": [
      "1\n",
      "2022-05-29 00:00:00\n",
      "https://www.playbill.com/grosses?week=2022-05-29\n",
      "2\n",
      "2022-05-22 00:00:00\n",
      "https://www.playbill.com/grosses?week=2022-05-22\n",
      "['A Strange Loop', 'Aladdin', 'American Buffalo', 'Beetlejuice', 'Birthday Candles', 'Chicago', 'Come From Away', 'Company', 'Dear Evan Hansen', 'Funny Girl', 'Girl From the North Country', 'Hadestown', 'Hamilton', 'Hangmen', 'Harry Potter and the Cursed Child', 'How I Learned to Drive', 'MJ The Musical', 'Macbeth', 'Moulin Rouge! The Musical', 'Mr. Saturday Night', 'Mrs. Doubtfire', 'POTUS: Or, Behind Every Great Dumbass are Seven Women Trying to Keep Him Alive', 'Paradise Square', 'Plaza Suite', 'SIX: The Musical', 'Take Me Out', 'The Book of Mormon', 'The Lion King', 'The Minutes', 'The Music Man', 'The Phantom of the Opera', 'The Skin of Our Teeth', 'Tina: The Tina Turner Musical', 'Wicked', 'for colored girls who have considered suicide/when the rainbow is enuf', 'A Strange Loop', 'Aladdin', 'American Buffalo', 'Beetlejuice', 'Birthday Candles', 'Chicago', 'Come From Away', 'Company', 'Dear Evan Hansen', 'Funny Girl', 'Girl From the North Country', 'Hadestown', 'Hamilton', 'Hangmen', 'Harry Potter and the Cursed Child', 'How I Learned to Drive', 'MJ The Musical', 'Macbeth', 'Moulin Rouge! The Musical', 'Mr. Saturday Night', 'Mrs. Doubtfire', 'POTUS: Or, Behind Every Great Dumbass are Seven Women Trying to Keep Him Alive', 'Paradise Square', 'Plaza Suite', 'SIX: The Musical', 'Take Me Out', 'The Book of Mormon', 'The Lion King', 'The Minutes', 'The Music Man', 'The Phantom of the Opera', 'The Skin of Our Teeth', 'Tina: The Tina Turner Musical', 'Wicked', 'for colored girls who have considered suicide/when the rainbow is enuf']\n"
     ]
    }
   ],
   "source": [
    "week = []\n",
    "show = []\n",
    "theatre = []\n",
    "this_week_gross = []\n",
    "potential_gross = []\n",
    "difference = []\n",
    "avg_ticket = []\n",
    "top_ticket = []\n",
    "seats_sold = []\n",
    "theatre_capacity = []\n",
    "performance_count = []\n",
    "preview_count = []\n",
    "percent_capacity = []\n",
    "\n",
    "i=1\n",
    "while i in range(1,3):\n",
    "    print(i)\n",
    "    print(week_ending)\n",
    "    week.append(week_ending)                                                         #week\n",
    "    \n",
    "    url = f'https://www.playbill.com/grosses?week={str(week_ending.date())}'\n",
    "    print(url)\n",
    "    response = requests.get(url)\n",
    "    \n",
    "    soup = BS(response.text)\n",
    "    table = soup.find('tbody')\n",
    "    tr = table.find_all('tr')\n",
    "    \n",
    "    for _tr in tr:\n",
    "        td = _tr.find_all('td')\n",
    "        for _td in td:\n",
    "            a = _td.find_all('a')\n",
    "            for _a in a:\n",
    "                span = _a.find_all('span')\n",
    "                for _span in span:\n",
    "                    show.append(_span.text)\n",
    "    i +=1\n",
    "    week_ending = week_ending - modifier           \n",
    "\n",
    "print(show)"
   ]
  },
  {
   "cell_type": "code",
   "execution_count": 19,
   "id": "87b038c5",
   "metadata": {},
   "outputs": [
    {
     "name": "stdout",
     "output_type": "stream",
     "text": [
      "[datetime.datetime(2022, 5, 29, 0, 0), datetime.datetime(2022, 5, 22, 0, 0)]\n"
     ]
    }
   ],
   "source": [
    "print(week)"
   ]
  }
 ],
 "metadata": {
  "kernelspec": {
   "display_name": "Python 3 (ipykernel)",
   "language": "python",
   "name": "python3"
  },
  "language_info": {
   "codemirror_mode": {
    "name": "ipython",
    "version": 3
   },
   "file_extension": ".py",
   "mimetype": "text/x-python",
   "name": "python",
   "nbconvert_exporter": "python",
   "pygments_lexer": "ipython3",
   "version": "3.9.7"
  }
 },
 "nbformat": 4,
 "nbformat_minor": 5
}
