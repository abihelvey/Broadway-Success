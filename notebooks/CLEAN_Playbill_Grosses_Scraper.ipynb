{
 "cells": [
  {
   "cell_type": "code",
   "execution_count": 1,
   "id": "b6cf7b87",
   "metadata": {},
   "outputs": [],
   "source": [
    "#HUGE SHOUTOUT TO ROB SCHULTEIS FOR HELPING ME FIGURE OUT SOME STUMBLING BLOCKS"
   ]
  },
  {
   "cell_type": "code",
   "execution_count": 2,
   "id": "8b702d5d",
   "metadata": {},
   "outputs": [],
   "source": [
    "import pandas as pd\n",
    "import re                   #likely won't use in scrape, just analysis\n",
    "import requests\n",
    "from bs4 import BeautifulSoup as BS\n",
    "from IPython.core.display import HTML      #likely won't use\n",
    "from datetime import datetime, timedelta"
   ]
  },
  {
   "cell_type": "code",
   "execution_count": 3,
   "id": "13284e83",
   "metadata": {},
   "outputs": [],
   "source": [
    "week_ending_str = '2022-06-12'\n",
    "week_ending_field = datetime.strptime(week_ending_str, '%Y-%m-%d')\n",
    "modifier = timedelta(7)"
   ]
  },
  {
   "cell_type": "code",
   "execution_count": 4,
   "id": "cde04889",
   "metadata": {},
   "outputs": [],
   "source": [
    "title = []\n",
    "weekly_gross = []        #formerly weekblah\n",
    "gross_difference = []    #may not work, will likely need calculated column\n",
    "average_tix_price = []\n",
    "seats_sold = []\n",
    "performance_count = []\n",
    "percent_capacity = []\n",
    "capacity_difference = []\n",
    "week_ending = []"
   ]
  },
  {
   "cell_type": "code",
   "execution_count": 5,
   "id": "dacc0c82",
   "metadata": {
    "scrolled": true
   },
   "outputs": [
    {
     "name": "stdout",
     "output_type": "stream",
     "text": [
      "1\n",
      "2022-06-12 00:00:00\n",
      "https://www.playbill.com/grosses?week=2022-06-12\n",
      "2\n",
      "2022-06-05 00:00:00\n",
      "https://www.playbill.com/grosses?week=2022-06-05\n",
      "3\n",
      "2022-05-29 00:00:00\n",
      "https://www.playbill.com/grosses?week=2022-05-29\n"
     ]
    }
   ],
   "source": [
    "i = 1\n",
    "while i in range (1, 4):       #need 44 weeks post-pandemic shutdown\n",
    "    print(i)\n",
    "    print(week_ending_field)\n",
    "    url = f'https://www.playbill.com/grosses?week={str(week_ending_field.date())}'\n",
    "    print(url)\n",
    "    \n",
    "    data = requests.get(url).text\n",
    "    soup = BS(data, 'html.parser')\n",
    "    table = soup.find('table', attrs={'class':'bsp-table'})\n",
    "    \n",
    "    for row in table.tbody.find_all('tr'):\n",
    "        columns = row.find_all('td')\n",
    "        if(columns != []):\n",
    "            \n",
    "            show = columns[0].text.strip()\n",
    "            title.append(show)\n",
    "            \n",
    "            gross = columns[1].text.strip()\n",
    "            weekly_gross.append(gross)\n",
    "            \n",
    "            grossdif = columns[2].text.strip()\n",
    "            gross_difference.append(grossdif)\n",
    "            \n",
    "            avgtix = columns[3].text.strip()\n",
    "            average_tix_price.append(avgtix)\n",
    "            \n",
    "            seats = columns[4].text.strip()\n",
    "            seats_sold.append(seats)\n",
    "            \n",
    "            perfs = columns[5].text.strip()\n",
    "            performance_count.append(perfs)\n",
    "            \n",
    "            perccap = columns[6].text.strip()\n",
    "            percent_capacity.append(perccap)\n",
    "            \n",
    "            perccapdif = columns[7].text.strip()\n",
    "            capacity_difference.append(perccapdif)\n",
    "            \n",
    "            week_ending.append(week_ending_field)\n",
    "    i += 1\n",
    "    week_ending_field = week_ending_field - modifier"
   ]
  },
  {
   "cell_type": "code",
   "execution_count": 6,
   "id": "fe6bcf2d",
   "metadata": {},
   "outputs": [
    {
     "name": "stdout",
     "output_type": "stream",
     "text": [
      "97\n",
      "97\n",
      "97\n",
      "97\n",
      "97\n",
      "97\n",
      "97\n",
      "97\n",
      "97\n"
     ]
    }
   ],
   "source": [
    "print(len(title))\n",
    "print(len(weekly_gross))        #formerly weekblah\n",
    "print(len(gross_difference))    #may not work, will likely need calculated column\n",
    "print(len(average_tix_price))\n",
    "print(len(seats_sold))\n",
    "print(len(performance_count))\n",
    "print(len(percent_capacity))\n",
    "print(len(capacity_difference))\n",
    "print(len(week_ending))"
   ]
  },
  {
   "cell_type": "code",
   "execution_count": 7,
   "id": "67164905",
   "metadata": {},
   "outputs": [
    {
     "name": "stdout",
     "output_type": "stream",
     "text": [
      "2022-05-29    35\n",
      "2022-06-12    31\n",
      "2022-06-05    31\n",
      "dtype: int64\n"
     ]
    }
   ],
   "source": [
    "week_series = pd.Series(week_ending)\n",
    "print(week_series.value_counts())"
   ]
  },
  {
   "cell_type": "code",
   "execution_count": 8,
   "id": "0cff00bd",
   "metadata": {},
   "outputs": [
    {
     "ename": "ValueError",
     "evalue": "Columns must be same length as key",
     "output_type": "error",
     "traceback": [
      "\u001b[1;31m---------------------------------------------------------------------------\u001b[0m",
      "\u001b[1;31mValueError\u001b[0m                                Traceback (most recent call last)",
      "\u001b[1;32m~\\AppData\\Local\\Temp/ipykernel_13508/265843620.py\u001b[0m in \u001b[0;36m<module>\u001b[1;34m\u001b[0m\n\u001b[0;32m      1\u001b[0m \u001b[0mdf\u001b[0m \u001b[1;33m=\u001b[0m \u001b[0mpd\u001b[0m\u001b[1;33m.\u001b[0m\u001b[0mDataFrame\u001b[0m\u001b[1;33m(\u001b[0m\u001b[1;33m{\u001b[0m\u001b[1;34m'Title'\u001b[0m \u001b[1;33m:\u001b[0m \u001b[0mtitle\u001b[0m\u001b[1;33m,\u001b[0m \u001b[1;34m'Weekly Gross'\u001b[0m \u001b[1;33m:\u001b[0m \u001b[0mweekly_gross\u001b[0m\u001b[1;33m,\u001b[0m \u001b[1;34m'Gross Difference'\u001b[0m \u001b[1;33m:\u001b[0m \u001b[0mgross_difference\u001b[0m\u001b[1;33m,\u001b[0m \u001b[1;34m'Average Ticket Price'\u001b[0m \u001b[1;33m:\u001b[0m \u001b[0maverage_tix_price\u001b[0m\u001b[1;33m,\u001b[0m \u001b[1;34m'Seats Sold'\u001b[0m \u001b[1;33m:\u001b[0m \u001b[0mseats_sold\u001b[0m\u001b[1;33m,\u001b[0m \u001b[1;34m'Performance Count'\u001b[0m \u001b[1;33m:\u001b[0m \u001b[0mperformance_count\u001b[0m\u001b[1;33m,\u001b[0m \u001b[1;34m'Percent Capacity'\u001b[0m \u001b[1;33m:\u001b[0m \u001b[0mpercent_capacity\u001b[0m\u001b[1;33m,\u001b[0m \u001b[1;34m'Capacity Difference'\u001b[0m \u001b[1;33m:\u001b[0m \u001b[0mcapacity_difference\u001b[0m\u001b[1;33m,\u001b[0m \u001b[1;34m'Week Ending'\u001b[0m \u001b[1;33m:\u001b[0m \u001b[0mweek_ending\u001b[0m\u001b[1;33m}\u001b[0m\u001b[1;33m)\u001b[0m\u001b[1;33m\u001b[0m\u001b[1;33m\u001b[0m\u001b[0m\n\u001b[0;32m      2\u001b[0m \u001b[0mdf\u001b[0m\u001b[1;33m[\u001b[0m\u001b[1;33m[\u001b[0m\u001b[1;34m'Title'\u001b[0m\u001b[1;33m,\u001b[0m \u001b[1;34m'Theater'\u001b[0m\u001b[1;33m]\u001b[0m\u001b[1;33m]\u001b[0m \u001b[1;33m=\u001b[0m \u001b[0mdf\u001b[0m\u001b[1;33m[\u001b[0m\u001b[1;34m'Title'\u001b[0m\u001b[1;33m]\u001b[0m\u001b[1;33m.\u001b[0m\u001b[0mstr\u001b[0m\u001b[1;33m.\u001b[0m\u001b[0msplit\u001b[0m\u001b[1;33m(\u001b[0m\u001b[1;34m'\\n\\n'\u001b[0m\u001b[1;33m,\u001b[0m \u001b[0mexpand\u001b[0m\u001b[1;33m=\u001b[0m\u001b[1;32mTrue\u001b[0m\u001b[1;33m)\u001b[0m\u001b[1;33m\u001b[0m\u001b[1;33m\u001b[0m\u001b[0m\n\u001b[1;32m----> 3\u001b[1;33m \u001b[0mdf\u001b[0m\u001b[1;33m[\u001b[0m\u001b[1;33m[\u001b[0m\u001b[1;34m'Weekly Gross'\u001b[0m\u001b[1;33m,\u001b[0m \u001b[1;34m'Potential Gross'\u001b[0m\u001b[1;33m]\u001b[0m\u001b[1;33m]\u001b[0m \u001b[1;33m=\u001b[0m \u001b[0mdf\u001b[0m\u001b[1;33m[\u001b[0m\u001b[1;34m'Weekly Gross'\u001b[0m\u001b[1;33m]\u001b[0m\u001b[1;33m.\u001b[0m\u001b[0mstr\u001b[0m\u001b[1;33m.\u001b[0m\u001b[0msplit\u001b[0m\u001b[1;33m(\u001b[0m\u001b[1;34m'\\n'\u001b[0m\u001b[1;33m,\u001b[0m \u001b[0mexpand\u001b[0m\u001b[1;33m=\u001b[0m\u001b[1;32mTrue\u001b[0m\u001b[1;33m)\u001b[0m \u001b[1;31m#this one might not be necessary or do anything\u001b[0m\u001b[1;33m\u001b[0m\u001b[1;33m\u001b[0m\u001b[0m\n\u001b[0m\u001b[0;32m      4\u001b[0m \u001b[0mdf\u001b[0m\u001b[1;33m[\u001b[0m\u001b[1;33m[\u001b[0m\u001b[1;34m'Average Ticket Price'\u001b[0m\u001b[1;33m,\u001b[0m \u001b[1;34m'Top Ticket Price'\u001b[0m\u001b[1;33m]\u001b[0m\u001b[1;33m]\u001b[0m \u001b[1;33m=\u001b[0m \u001b[0mdf\u001b[0m\u001b[1;33m[\u001b[0m\u001b[1;34m'Average Ticket Price'\u001b[0m\u001b[1;33m]\u001b[0m\u001b[1;33m.\u001b[0m\u001b[0mstr\u001b[0m\u001b[1;33m.\u001b[0m\u001b[0msplit\u001b[0m\u001b[1;33m(\u001b[0m\u001b[1;34m'\\n'\u001b[0m\u001b[1;33m,\u001b[0m \u001b[0mexpand\u001b[0m\u001b[1;33m=\u001b[0m\u001b[1;32mTrue\u001b[0m\u001b[1;33m)\u001b[0m\u001b[1;33m\u001b[0m\u001b[1;33m\u001b[0m\u001b[0m\n\u001b[0;32m      5\u001b[0m \u001b[0mdf\u001b[0m\u001b[1;33m[\u001b[0m\u001b[1;33m[\u001b[0m\u001b[1;34m'Seats Sold'\u001b[0m\u001b[1;33m,\u001b[0m \u001b[1;34m'Theater Capacity'\u001b[0m\u001b[1;33m]\u001b[0m\u001b[1;33m]\u001b[0m \u001b[1;33m=\u001b[0m \u001b[0mdf\u001b[0m\u001b[1;33m[\u001b[0m\u001b[1;34m'Seats Sold'\u001b[0m\u001b[1;33m]\u001b[0m\u001b[1;33m.\u001b[0m\u001b[0mstr\u001b[0m\u001b[1;33m.\u001b[0m\u001b[0msplit\u001b[0m\u001b[1;33m(\u001b[0m\u001b[1;34m'\\n'\u001b[0m\u001b[1;33m,\u001b[0m \u001b[0mexpand\u001b[0m\u001b[1;33m=\u001b[0m\u001b[1;32mTrue\u001b[0m\u001b[1;33m)\u001b[0m\u001b[1;33m\u001b[0m\u001b[1;33m\u001b[0m\u001b[0m\n",
      "\u001b[1;32m~\\anaconda3\\lib\\site-packages\\pandas\\core\\frame.py\u001b[0m in \u001b[0;36m__setitem__\u001b[1;34m(self, key, value)\u001b[0m\n\u001b[0;32m   3598\u001b[0m             \u001b[0mself\u001b[0m\u001b[1;33m.\u001b[0m\u001b[0m_setitem_frame\u001b[0m\u001b[1;33m(\u001b[0m\u001b[0mkey\u001b[0m\u001b[1;33m,\u001b[0m \u001b[0mvalue\u001b[0m\u001b[1;33m)\u001b[0m\u001b[1;33m\u001b[0m\u001b[1;33m\u001b[0m\u001b[0m\n\u001b[0;32m   3599\u001b[0m         \u001b[1;32melif\u001b[0m \u001b[0misinstance\u001b[0m\u001b[1;33m(\u001b[0m\u001b[0mkey\u001b[0m\u001b[1;33m,\u001b[0m \u001b[1;33m(\u001b[0m\u001b[0mSeries\u001b[0m\u001b[1;33m,\u001b[0m \u001b[0mnp\u001b[0m\u001b[1;33m.\u001b[0m\u001b[0mndarray\u001b[0m\u001b[1;33m,\u001b[0m \u001b[0mlist\u001b[0m\u001b[1;33m,\u001b[0m \u001b[0mIndex\u001b[0m\u001b[1;33m)\u001b[0m\u001b[1;33m)\u001b[0m\u001b[1;33m:\u001b[0m\u001b[1;33m\u001b[0m\u001b[1;33m\u001b[0m\u001b[0m\n\u001b[1;32m-> 3600\u001b[1;33m             \u001b[0mself\u001b[0m\u001b[1;33m.\u001b[0m\u001b[0m_setitem_array\u001b[0m\u001b[1;33m(\u001b[0m\u001b[0mkey\u001b[0m\u001b[1;33m,\u001b[0m \u001b[0mvalue\u001b[0m\u001b[1;33m)\u001b[0m\u001b[1;33m\u001b[0m\u001b[1;33m\u001b[0m\u001b[0m\n\u001b[0m\u001b[0;32m   3601\u001b[0m         \u001b[1;32melif\u001b[0m \u001b[0misinstance\u001b[0m\u001b[1;33m(\u001b[0m\u001b[0mvalue\u001b[0m\u001b[1;33m,\u001b[0m \u001b[0mDataFrame\u001b[0m\u001b[1;33m)\u001b[0m\u001b[1;33m:\u001b[0m\u001b[1;33m\u001b[0m\u001b[1;33m\u001b[0m\u001b[0m\n\u001b[0;32m   3602\u001b[0m             \u001b[0mself\u001b[0m\u001b[1;33m.\u001b[0m\u001b[0m_set_item_frame_value\u001b[0m\u001b[1;33m(\u001b[0m\u001b[0mkey\u001b[0m\u001b[1;33m,\u001b[0m \u001b[0mvalue\u001b[0m\u001b[1;33m)\u001b[0m\u001b[1;33m\u001b[0m\u001b[1;33m\u001b[0m\u001b[0m\n",
      "\u001b[1;32m~\\anaconda3\\lib\\site-packages\\pandas\\core\\frame.py\u001b[0m in \u001b[0;36m_setitem_array\u001b[1;34m(self, key, value)\u001b[0m\n\u001b[0;32m   3637\u001b[0m         \u001b[1;32melse\u001b[0m\u001b[1;33m:\u001b[0m\u001b[1;33m\u001b[0m\u001b[1;33m\u001b[0m\u001b[0m\n\u001b[0;32m   3638\u001b[0m             \u001b[1;32mif\u001b[0m \u001b[0misinstance\u001b[0m\u001b[1;33m(\u001b[0m\u001b[0mvalue\u001b[0m\u001b[1;33m,\u001b[0m \u001b[0mDataFrame\u001b[0m\u001b[1;33m)\u001b[0m\u001b[1;33m:\u001b[0m\u001b[1;33m\u001b[0m\u001b[1;33m\u001b[0m\u001b[0m\n\u001b[1;32m-> 3639\u001b[1;33m                 \u001b[0mcheck_key_length\u001b[0m\u001b[1;33m(\u001b[0m\u001b[0mself\u001b[0m\u001b[1;33m.\u001b[0m\u001b[0mcolumns\u001b[0m\u001b[1;33m,\u001b[0m \u001b[0mkey\u001b[0m\u001b[1;33m,\u001b[0m \u001b[0mvalue\u001b[0m\u001b[1;33m)\u001b[0m\u001b[1;33m\u001b[0m\u001b[1;33m\u001b[0m\u001b[0m\n\u001b[0m\u001b[0;32m   3640\u001b[0m                 \u001b[1;32mfor\u001b[0m \u001b[0mk1\u001b[0m\u001b[1;33m,\u001b[0m \u001b[0mk2\u001b[0m \u001b[1;32min\u001b[0m \u001b[0mzip\u001b[0m\u001b[1;33m(\u001b[0m\u001b[0mkey\u001b[0m\u001b[1;33m,\u001b[0m \u001b[0mvalue\u001b[0m\u001b[1;33m.\u001b[0m\u001b[0mcolumns\u001b[0m\u001b[1;33m)\u001b[0m\u001b[1;33m:\u001b[0m\u001b[1;33m\u001b[0m\u001b[1;33m\u001b[0m\u001b[0m\n\u001b[0;32m   3641\u001b[0m                     \u001b[0mself\u001b[0m\u001b[1;33m[\u001b[0m\u001b[0mk1\u001b[0m\u001b[1;33m]\u001b[0m \u001b[1;33m=\u001b[0m \u001b[0mvalue\u001b[0m\u001b[1;33m[\u001b[0m\u001b[0mk2\u001b[0m\u001b[1;33m]\u001b[0m\u001b[1;33m\u001b[0m\u001b[1;33m\u001b[0m\u001b[0m\n",
      "\u001b[1;32m~\\anaconda3\\lib\\site-packages\\pandas\\core\\indexers.py\u001b[0m in \u001b[0;36mcheck_key_length\u001b[1;34m(columns, key, value)\u001b[0m\n\u001b[0;32m    426\u001b[0m     \u001b[1;32mif\u001b[0m \u001b[0mcolumns\u001b[0m\u001b[1;33m.\u001b[0m\u001b[0mis_unique\u001b[0m\u001b[1;33m:\u001b[0m\u001b[1;33m\u001b[0m\u001b[1;33m\u001b[0m\u001b[0m\n\u001b[0;32m    427\u001b[0m         \u001b[1;32mif\u001b[0m \u001b[0mlen\u001b[0m\u001b[1;33m(\u001b[0m\u001b[0mvalue\u001b[0m\u001b[1;33m.\u001b[0m\u001b[0mcolumns\u001b[0m\u001b[1;33m)\u001b[0m \u001b[1;33m!=\u001b[0m \u001b[0mlen\u001b[0m\u001b[1;33m(\u001b[0m\u001b[0mkey\u001b[0m\u001b[1;33m)\u001b[0m\u001b[1;33m:\u001b[0m\u001b[1;33m\u001b[0m\u001b[1;33m\u001b[0m\u001b[0m\n\u001b[1;32m--> 428\u001b[1;33m             \u001b[1;32mraise\u001b[0m \u001b[0mValueError\u001b[0m\u001b[1;33m(\u001b[0m\u001b[1;34m\"Columns must be same length as key\"\u001b[0m\u001b[1;33m)\u001b[0m\u001b[1;33m\u001b[0m\u001b[1;33m\u001b[0m\u001b[0m\n\u001b[0m\u001b[0;32m    429\u001b[0m     \u001b[1;32melse\u001b[0m\u001b[1;33m:\u001b[0m\u001b[1;33m\u001b[0m\u001b[1;33m\u001b[0m\u001b[0m\n\u001b[0;32m    430\u001b[0m         \u001b[1;31m# Missing keys in columns are represented as -1\u001b[0m\u001b[1;33m\u001b[0m\u001b[1;33m\u001b[0m\u001b[0m\n",
      "\u001b[1;31mValueError\u001b[0m: Columns must be same length as key"
     ]
    }
   ],
   "source": [
    "df = pd.DataFrame({'Title' : title, 'Weekly Gross' : weekly_gross, 'Gross Difference' : gross_difference, 'Average Ticket Price' : average_tix_price, 'Seats Sold' : seats_sold, 'Performance Count' : performance_count, 'Percent Capacity' : percent_capacity, 'Capacity Difference' : capacity_difference, 'Week Ending' : week_ending})\n",
    "df[['Title', 'Theater']] = df['Title'].str.split('\\n\\n', expand=True)\n",
    "df[['Weekly Gross', 'Potential Gross']] = df['Weekly Gross'].str.split('\\n', expand=True) #this one might not be necessary or do anything\n",
    "df[['Average Ticket Price', 'Top Ticket Price']] = df['Average Ticket Price'].str.split('\\n', expand=True)\n",
    "df[['Seats Sold', 'Theater Capacity']] = df['Seats Sold'].str.split('\\n', expand=True)\n",
    "df[['Performance Count', 'Preview Count']] = df['Performance Count'].str.split('\\n', expand=True)"
   ]
  }
 ],
 "metadata": {
  "kernelspec": {
   "display_name": "Python 3 (ipykernel)",
   "language": "python",
   "name": "python3"
  },
  "language_info": {
   "codemirror_mode": {
    "name": "ipython",
    "version": 3
   },
   "file_extension": ".py",
   "mimetype": "text/x-python",
   "name": "python",
   "nbconvert_exporter": "python",
   "pygments_lexer": "ipython3",
   "version": "3.9.7"
  }
 },
 "nbformat": 4,
 "nbformat_minor": 5
}
